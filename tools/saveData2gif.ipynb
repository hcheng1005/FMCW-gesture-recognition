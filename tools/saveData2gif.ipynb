{
 "cells": [
  {
   "cell_type": "code",
   "execution_count": 2,
   "metadata": {},
   "outputs": [],
   "source": [
    "import os  \n",
    "import numpy as np  \n",
    "from matplotlib import pyplot as plt  \n",
    "import h5py  \n",
    "import imageio  \n",
    "from tqdm import tqdm  # 导入tqdm库  "
   ]
  },
  {
   "cell_type": "code",
   "execution_count": 6,
   "metadata": {},
   "outputs": [],
   "source": [
    "h5_file_path = \"/home/charles/Code/dataSet/SoliData/dsp/9_13_9.h5\"\n",
    "use_channel = 0\n",
    "# 读取H5文件  \n",
    "with h5py.File(h5_file_path, 'r') as f:  \n",
    "    data = f['ch{}'.format(use_channel)][()]  \n",
    "    label = f['label'][()]  \n",
    "\n",
    "data = data.reshape(data.shape[0], 32, 32)  # 重塑数据为32x32的图像  \n",
    "\n",
    "# 用于保存每一帧的列表  \n",
    "frames = []  \n",
    "\n",
    "for i in range(data.shape[0]):  \n",
    "    # 创建图形并绘制图像  \n",
    "    fig, ax = plt.subplots()  \n",
    "    # ax.imshow(data[i], cmap='gray')  # 显示图像  \n",
    "    ax.imshow(data[i])  # 保存实际值而非灰度图 \n",
    "    plt.axis('off')  # 关闭坐标轴  \n",
    "\n",
    "    # 保存当前帧为图像  \n",
    "    plt.savefig('temp_frame.png', bbox_inches='tight', pad_inches=0)  # 保存当前帧为临时文件  \n",
    "    plt.close(fig)  # 关闭图形窗口以释放资源  \n",
    "\n",
    "    frames.append(imageio.v2.imread('temp_frame.png'))  # 读取并添加到帧列表  \n",
    "\n",
    "# 生成GIF文件名  \n",
    "gif_file_name = 'tmp.gif'  \n",
    "# gif_file_path = os.path.join(\"\", gif_file_name)  \n",
    "\n",
    "# 保存为GIF  \n",
    "imageio.mimsave(gif_file_name, frames, duration=0.01, loop=0)  # duration为每帧持续时间"
   ]
  }
 ],
 "metadata": {
  "kernelspec": {
   "display_name": "base",
   "language": "python",
   "name": "python3"
  },
  "language_info": {
   "codemirror_mode": {
    "name": "ipython",
    "version": 3
   },
   "file_extension": ".py",
   "mimetype": "text/x-python",
   "name": "python",
   "nbconvert_exporter": "python",
   "pygments_lexer": "ipython3",
   "version": "3.12.7"
  }
 },
 "nbformat": 4,
 "nbformat_minor": 2
}
